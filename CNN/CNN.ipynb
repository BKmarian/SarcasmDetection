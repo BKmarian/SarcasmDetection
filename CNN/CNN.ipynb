{
 "cells": [
  {
   "cell_type": "code",
   "execution_count": 9,
   "metadata": {
    "pycharm": {
     "name": "#%%\n"
    }
   },
   "outputs": [
    {
     "name": "stdout",
     "output_type": "stream",
     "text": [
      "The autoreload extension is already loaded. To reload it, use:\n",
      "  %reload_ext autoreload\n"
     ]
    }
   ],
   "source": [
    "%load_ext autoreload\n",
    "%autoreload 2"
   ]
  },
  {
   "cell_type": "code",
   "execution_count": 10,
   "metadata": {
    "pycharm": {
     "name": "#%%\n"
    }
   },
   "outputs": [],
   "source": [
    "import pickle\n",
    "import warnings\n",
    "\n",
    "import keras\n",
    "import matplotlib.pyplot as plt\n",
    "import numpy as np\n",
    "import pandas as pd\n",
    "import pydotplus as pyd\n",
    "import seaborn as sns\n",
    "import tensorflow as tf\n",
    "from gensim.models import KeyedVectors\n",
    "from keras import backend as K\n",
    "from keras.callbacks import ModelCheckpoint, TensorBoard, EarlyStopping, ReduceLROnPlateau\n",
    "from keras.layers import Dense, Input, Flatten, Embedding, Conv1D, MaxPooling1D\n",
    "from keras.models import Model\n",
    "from keras.preprocessing.sequence import pad_sequences\n",
    "from keras.preprocessing.text import Tokenizer\n",
    "from keras.utils.vis_utils import plot_model\n",
    "from sklearn.metrics import confusion_matrix,f1_score,accuracy_score\n",
    "from tensorflow.keras.utils import to_categorical\n",
    "warnings.filterwarnings('ignore')\n",
    "\n",
    "%matplotlib inline"
   ]
  },
  {
   "cell_type": "code",
   "execution_count": 12,
   "metadata": {
    "pycharm": {
     "name": "#%%\n"
    }
   },
   "outputs": [
    {
     "data": {
      "text/html": [
       "<div>\n",
       "<style scoped>\n",
       "    .dataframe tbody tr th:only-of-type {\n",
       "        vertical-align: middle;\n",
       "    }\n",
       "\n",
       "    .dataframe tbody tr th {\n",
       "        vertical-align: top;\n",
       "    }\n",
       "\n",
       "    .dataframe thead th {\n",
       "        text-align: right;\n",
       "    }\n",
       "</style>\n",
       "<table border=\"1\" class=\"dataframe\">\n",
       "  <thead>\n",
       "    <tr style=\"text-align: right;\">\n",
       "      <th></th>\n",
       "      <th>label</th>\n",
       "      <th>comment</th>\n",
       "      <th>author</th>\n",
       "      <th>subreddit</th>\n",
       "      <th>score</th>\n",
       "      <th>ups</th>\n",
       "      <th>downs</th>\n",
       "      <th>date</th>\n",
       "      <th>created_utc</th>\n",
       "      <th>parent_comment</th>\n",
       "    </tr>\n",
       "  </thead>\n",
       "  <tbody>\n",
       "    <tr>\n",
       "      <th>0</th>\n",
       "      <td>1</td>\n",
       "      <td>but they'll have all those reviews!</td>\n",
       "      <td>RoguishPoppet</td>\n",
       "      <td>ProductTesting</td>\n",
       "      <td>0</td>\n",
       "      <td>-1</td>\n",
       "      <td>-1</td>\n",
       "      <td>2016-11</td>\n",
       "      <td>2016-11-01 02:04:59</td>\n",
       "      <td>The dumb thing is, they are risking their sell...</td>\n",
       "    </tr>\n",
       "    <tr>\n",
       "      <th>1</th>\n",
       "      <td>1</td>\n",
       "      <td>wow it is totally unreasonable to assume that ...</td>\n",
       "      <td>pb2crazy</td>\n",
       "      <td>politics</td>\n",
       "      <td>2</td>\n",
       "      <td>-1</td>\n",
       "      <td>-1</td>\n",
       "      <td>2016-11</td>\n",
       "      <td>2016-11-01 02:42:11</td>\n",
       "      <td>Clinton campaign accuses FBI of 'blatant doubl...</td>\n",
       "    </tr>\n",
       "    <tr>\n",
       "      <th>2</th>\n",
       "      <td>1</td>\n",
       "      <td>ho ho ho... but melania said that there is no ...</td>\n",
       "      <td>pb2crazy</td>\n",
       "      <td>politics</td>\n",
       "      <td>8</td>\n",
       "      <td>-1</td>\n",
       "      <td>-1</td>\n",
       "      <td>2016-10</td>\n",
       "      <td>2016-10-18 16:20:53</td>\n",
       "      <td>Anyone else think that it was interesting the ...</td>\n",
       "    </tr>\n",
       "    <tr>\n",
       "      <th>3</th>\n",
       "      <td>1</td>\n",
       "      <td>i can't wait until @potus starts a twitter war...</td>\n",
       "      <td>kitduncan</td>\n",
       "      <td>politics</td>\n",
       "      <td>3</td>\n",
       "      <td>-1</td>\n",
       "      <td>-1</td>\n",
       "      <td>2016-11</td>\n",
       "      <td>2016-11-01 03:22:33</td>\n",
       "      <td>Here's what happens when Obama gives up his Tw...</td>\n",
       "    </tr>\n",
       "    <tr>\n",
       "      <th>4</th>\n",
       "      <td>1</td>\n",
       "      <td>gotta love the teachers who give exams on the ...</td>\n",
       "      <td>DEP61</td>\n",
       "      <td>CFBOffTopic</td>\n",
       "      <td>3</td>\n",
       "      <td>-1</td>\n",
       "      <td>-1</td>\n",
       "      <td>2016-11</td>\n",
       "      <td>2016-11-01 03:30:11</td>\n",
       "      <td>Monday night Drinking thread Brought to You by...</td>\n",
       "    </tr>\n",
       "  </tbody>\n",
       "</table>\n",
       "</div>"
      ],
      "text/plain": [
       "   label                                            comment         author  \\\n",
       "0      1                but they'll have all those reviews!  RoguishPoppet   \n",
       "1      1  wow it is totally unreasonable to assume that ...       pb2crazy   \n",
       "2      1  ho ho ho... but melania said that there is no ...       pb2crazy   \n",
       "3      1  i can't wait until @potus starts a twitter war...      kitduncan   \n",
       "4      1  gotta love the teachers who give exams on the ...          DEP61   \n",
       "\n",
       "        subreddit  score  ups  downs     date          created_utc  \\\n",
       "0  ProductTesting      0   -1     -1  2016-11  2016-11-01 02:04:59   \n",
       "1        politics      2   -1     -1  2016-11  2016-11-01 02:42:11   \n",
       "2        politics      8   -1     -1  2016-10  2016-10-18 16:20:53   \n",
       "3        politics      3   -1     -1  2016-11  2016-11-01 03:22:33   \n",
       "4     CFBOffTopic      3   -1     -1  2016-11  2016-11-01 03:30:11   \n",
       "\n",
       "                                      parent_comment  \n",
       "0  The dumb thing is, they are risking their sell...  \n",
       "1  Clinton campaign accuses FBI of 'blatant doubl...  \n",
       "2  Anyone else think that it was interesting the ...  \n",
       "3  Here's what happens when Obama gives up his Tw...  \n",
       "4  Monday night Drinking thread Brought to You by...  "
      ]
     },
     "execution_count": 12,
     "metadata": {},
     "output_type": "execute_result"
    }
   ],
   "source": [
    "train = pd.read_csv('data/clean/train.csv')\n",
    "cv = pd.read_csv('data/clean/cv.csv')\n",
    "test = pd.read_csv('data/clean/test.csv')\n",
    "\n",
    "train.head()"
   ]
  },
  {
   "cell_type": "code",
   "execution_count": 15,
   "metadata": {
    "pycharm": {
     "name": "#%%\n"
    }
   },
   "outputs": [],
   "source": [
    "train['comment'] = train['comment'].astype(str)\n",
    "cv['comment'] = cv['comment'].astype(str)\n",
    "test['comment'] = test['comment'].astype(str)\n",
    "\n",
    "train['author'] = train['author'].astype(str)\n",
    "cv['author'] = cv['author'].astype(str)\n",
    "test['author'] = test['author'].astype(str)"
   ]
  },
  {
   "cell_type": "code",
   "execution_count": 16,
   "metadata": {
    "pycharm": {
     "name": "#%%\n"
    }
   },
   "outputs": [
    {
     "name": "stdout",
     "output_type": "stream",
     "text": [
      "149433\n"
     ]
    }
   ],
   "source": [
    "t = Tokenizer()\n",
    "t.fit_on_texts(train['comment'].values)\n",
    "vocab_size = len(t.word_index) + 1\n",
    "print(vocab_size)"
   ]
  },
  {
   "cell_type": "code",
   "execution_count": 17,
   "metadata": {
    "pycharm": {
     "name": "#%%\n"
    }
   },
   "outputs": [],
   "source": [
    "encoded_comments_train = t.texts_to_sequences(train['comment'])\n",
    "encoded_comments_cv = t.texts_to_sequences(cv['comment'])\n",
    "encoded_comments_test = t.texts_to_sequences(test['comment'])"
   ]
  },
  {
   "cell_type": "code",
   "execution_count": 20,
   "metadata": {
    "pycharm": {
     "name": "#%%\n"
    }
   },
   "outputs": [],
   "source": [
    "max_length = 70\n",
    "padded_comments_train = pad_sequences(encoded_comments_train, maxlen=max_length, padding='post')\n",
    "padded_comments_cv = pad_sequences(encoded_comments_cv, maxlen=max_length, padding='post')\n",
    "padded_comments_test = pad_sequences(encoded_comments_test, maxlen=max_length, padding='post')"
   ]
  },
  {
   "cell_type": "code",
   "execution_count": 21,
   "metadata": {
    "pycharm": {
     "name": "#%%\n"
    }
   },
   "outputs": [],
   "source": [
    "y_train = train['label'].values\n",
    "y_cv = cv['label'].values\n",
    "y_test = test['label'].values\n",
    "\n",
    "y_train = to_categorical(y_train, num_classes=2)\n",
    "y_cv = to_categorical(y_cv, num_classes=2)\n",
    "y_test = to_categorical(y_test, num_classes=2)"
   ]
  },
  {
   "cell_type": "code",
   "execution_count": null,
   "metadata": {
    "pycharm": {
     "name": "#%%\n"
    }
   },
   "outputs": [],
   "source": [
    "w2v_model = KeyedVectors.load_word2vec_format('GoogleNews-vectors-negative300.bin', binary=True)"
   ]
  },
  {
   "cell_type": "code",
   "execution_count": null,
   "metadata": {
    "pycharm": {
     "name": "#%%\n"
    }
   },
   "outputs": [],
   "source": [
    "# create a weight matrix for words in training docs\n",
    "embedding_matrix_w2v = np.zeros((vocab_size, 300))\n",
    "for word, i in t.word_index.items():\n",
    "    try:\n",
    "        embedding_vector = w2v_model[word]\n",
    "    except:\n",
    "        embedding_vector = [0]*300\n",
    "    \n",
    "    if embedding_vector is not None:\n",
    "        embedding_matrix_w2v[i] = embedding_vector\n",
    "        \n",
    "embedding_matrix_w2v.shape\n",
    "\n",
    "## Model 1: Baseline"
   ]
  },
  {
   "cell_type": "code",
   "execution_count": null,
   "metadata": {
    "pycharm": {
     "name": "#%%\n"
    }
   },
   "outputs": [],
   "source": [
    "input_data = Input(shape=(max_length,), name='main_input')\n",
    "embedding_layer = Embedding(vocab_size, 300, weights=[embedding_matrix_w2v], trainable=False)(input_data)\n",
    "conv_1 = Conv1D(filters=50, kernel_size=4, activation='relu')(embedding_layer)\n",
    "max_1 = MaxPooling1D(pool_size=2)(conv_1)\n",
    "conv_2 = Conv1D(filters=100, kernel_size=3, activation='relu')(max_1)\n",
    "max_2 = MaxPooling1D(pool_size=2)(conv_2)\n",
    "flatten = Flatten()(max_2)\n",
    "dense = Dense(100, activation='relu', name='fully_connected')(flatten)\n",
    "out = Dense(2, activation='softmax')(dense)\n",
    "\n",
    "model_01 = Model(inputs=[input_data], outputs=[out])\n",
    "\n",
    "print(model_01.summary())"
   ]
  },
  {
   "cell_type": "code",
   "execution_count": null,
   "metadata": {
    "pycharm": {
     "name": "#%%\n"
    }
   },
   "outputs": [],
   "source": [
    "#keras.utils.vis_utils.pydot = pyd\n",
    "plot_model(model_01, to_file='model_01.png')"
   ]
  },
  {
   "cell_type": "code",
   "execution_count": null,
   "metadata": {
    "pycharm": {
     "name": "#%%\n"
    }
   },
   "outputs": [],
   "source": [
    "tensorboard = TensorBoard(log_dir='model_01')\n",
    "\n",
    "reduce_lr = ReduceLROnPlateau(monitor='val_f1_m', \n",
    "                              mode = 'max', \n",
    "                              factor=0.5, \n",
    "                              patience=5, \n",
    "                              min_lr=0.0001, \n",
    "                              verbose=10)\n",
    "\n",
    "checkpoint = ModelCheckpoint(\"model_01.h5\", \n",
    "                               monitor=\"val_f1_m\", \n",
    "                               mode=\"max\", \n",
    "                               save_best_only = True, \n",
    "                               verbose=1)\n",
    "\n",
    "earlystop = EarlyStopping(monitor = 'val_f1_m', \n",
    "                            mode=\"max\", \n",
    "                            min_delta = 0, \n",
    "                            patience = 5,\n",
    "                            verbose=1)"
   ]
  },
  {
   "cell_type": "code",
   "execution_count": 28,
   "metadata": {
    "pycharm": {
     "name": "#%%\n"
    }
   },
   "outputs": [
    {
     "name": "stdout",
     "output_type": "stream",
     "text": [
      "12499/12500 [============================>.] - ETA: 5s - loss: 0.6015 - f1_m: 0.6685 - acc: 0.6685 \n",
      "Epoch 00001: val_f1_m improved from -inf to 0.69576, saving model to model_01.h5\n",
      "12500/12500 [==============================] - 74084s 6s/step - loss: 0.6015 - f1_m: 0.6686 - acc: 0.6686 - val_loss: 0.5786 - val_f1_m: 0.6958 - val_acc: 0.6957 - lr: 1.0000e-04\n",
      "Epoch 2/50\n",
      "12499/12500 [============================>.] - ETA: 0s - loss: 0.5628 - f1_m: 0.7045 - acc: 0.7045\n",
      "Epoch 00002: val_f1_m improved from 0.69576 to 0.71268, saving model to model_01.h5\n",
      "12500/12500 [==============================] - 343s 27ms/step - loss: 0.5628 - f1_m: 0.7045 - acc: 0.7045 - val_loss: 0.5563 - val_f1_m: 0.7127 - val_acc: 0.7126 - lr: 1.0000e-04\n",
      "Epoch 3/50\n",
      "12500/12500 [==============================] - ETA: 0s - loss: 0.5471 - f1_m: 0.7171 - acc: 0.7171\n",
      "Epoch 00003: val_f1_m improved from 0.71268 to 0.71583, saving model to model_01.h5\n",
      "12500/12500 [==============================] - 324s 26ms/step - loss: 0.5471 - f1_m: 0.7171 - acc: 0.7171 - val_loss: 0.5511 - val_f1_m: 0.7158 - val_acc: 0.7158 - lr: 1.0000e-04\n",
      "Epoch 4/50\n",
      "12499/12500 [============================>.] - ETA: 0s - loss: 0.5362 - f1_m: 0.7260 - acc: 0.7260\n",
      "Epoch 00004: val_f1_m improved from 0.71583 to 0.71856, saving model to model_01.h5\n",
      "12500/12500 [==============================] - 324s 26ms/step - loss: 0.5362 - f1_m: 0.7260 - acc: 0.7260 - val_loss: 0.5488 - val_f1_m: 0.7186 - val_acc: 0.7185 - lr: 1.0000e-04\n",
      "Epoch 5/50\n",
      "12499/12500 [============================>.] - ETA: 0s - loss: 0.5279 - f1_m: 0.7321 - acc: 0.7321\n",
      "Epoch 00005: val_f1_m improved from 0.71856 to 0.71868, saving model to model_01.h5\n",
      "12500/12500 [==============================] - 332s 27ms/step - loss: 0.5279 - f1_m: 0.7321 - acc: 0.7321 - val_loss: 0.5495 - val_f1_m: 0.7187 - val_acc: 0.7187 - lr: 1.0000e-04\n",
      "Epoch 6/50\n",
      "12498/12500 [============================>.] - ETA: 0s - loss: 0.5210 - f1_m: 0.7378 - acc: 0.7378\n",
      "Epoch 00006: val_f1_m improved from 0.71868 to 0.71884, saving model to model_01.h5\n",
      "12500/12500 [==============================] - 328s 26ms/step - loss: 0.5210 - f1_m: 0.7378 - acc: 0.7378 - val_loss: 0.5490 - val_f1_m: 0.7188 - val_acc: 0.7189 - lr: 1.0000e-04\n",
      "Epoch 7/50\n",
      "12499/12500 [============================>.] - ETA: 0s - loss: 0.5149 - f1_m: 0.7418 - acc: 0.7418\n",
      "Epoch 00007: val_f1_m did not improve from 0.71884\n",
      "12500/12500 [==============================] - 339s 27ms/step - loss: 0.5149 - f1_m: 0.7418 - acc: 0.7418 - val_loss: 0.5533 - val_f1_m: 0.7179 - val_acc: 0.7179 - lr: 1.0000e-04\n",
      "Epoch 8/50\n",
      "12499/12500 [============================>.] - ETA: 0s - loss: 0.5095 - f1_m: 0.7467 - acc: 0.7467\n",
      "Epoch 00008: val_f1_m did not improve from 0.71884\n",
      "12500/12500 [==============================] - 422s 34ms/step - loss: 0.5095 - f1_m: 0.7467 - acc: 0.7467 - val_loss: 0.5521 - val_f1_m: 0.7185 - val_acc: 0.7185 - lr: 1.0000e-04\n",
      "Epoch 9/50\n",
      "12499/12500 [============================>.] - ETA: 0s - loss: 0.5047 - f1_m: 0.7501 - acc: 0.7501\n",
      "Epoch 00009: val_f1_m did not improve from 0.71884\n",
      "12500/12500 [==============================] - 418s 33ms/step - loss: 0.5047 - f1_m: 0.7501 - acc: 0.7501 - val_loss: 0.5565 - val_f1_m: 0.7180 - val_acc: 0.7180 - lr: 1.0000e-04\n",
      "Epoch 10/50\n",
      "12498/12500 [============================>.] - ETA: 0s - loss: 0.5003 - f1_m: 0.7530 - acc: 0.7530\n",
      "Epoch 00010: val_f1_m did not improve from 0.71884\n",
      "12500/12500 [==============================] - 353s 28ms/step - loss: 0.5003 - f1_m: 0.7530 - acc: 0.7530 - val_loss: 0.5563 - val_f1_m: 0.7164 - val_acc: 0.7164 - lr: 1.0000e-04\n",
      "Epoch 11/50\n",
      "12499/12500 [============================>.] - ETA: 0s - loss: 0.4961 - f1_m: 0.7561 - acc: 0.7561\n",
      "Epoch 00011: val_f1_m did not improve from 0.71884\n",
      "12500/12500 [==============================] - 382s 31ms/step - loss: 0.4961 - f1_m: 0.7561 - acc: 0.7561 - val_loss: 0.5623 - val_f1_m: 0.7142 - val_acc: 0.7142 - lr: 1.0000e-04\n",
      "Epoch 00011: early stopping\n"
     ]
    }
   ],
   "source": [
    "c = tf.keras.optimizers.Adam(lr = 0.0001)\n",
    "model_01.compile(optimizer=c, loss='categorical_crossentropy', metrics=[f1_score, accuracy_score])\n",
    "\n",
    "h1 = model_01.fit(padded_comments_train, y_train, \n",
    "               batch_size=64, \n",
    "               epochs=50, \n",
    "               verbose=1, callbacks=[tensorboard, checkpoint, earlystop, reduce_lr], \n",
    "               validation_data=(padded_comments_cv, y_cv))"
   ]
  },
  {
   "cell_type": "code",
   "execution_count": 29,
   "metadata": {
    "pycharm": {
     "name": "#%%\n"
    }
   },
   "outputs": [
    {
     "name": "stdout",
     "output_type": "stream",
     "text": [
      "3125/3125 [==============================] - 22s 7ms/step - loss: 0.5563 - f1_m: 0.7192 - acc: 0.7192\n"
     ]
    },
    {
     "data": {
      "text/plain": [
       "[0.5563181638717651, 0.7192159295082092, 0.7192022800445557]"
      ]
     },
     "execution_count": 29,
     "metadata": {},
     "output_type": "execute_result"
    }
   ],
   "source": [
    "score_1 = model_01.evaluate(padded_comments_test, y_test)\n",
    "score_1"
   ]
  },
  {
   "cell_type": "code",
   "execution_count": 30,
   "metadata": {
    "pycharm": {
     "name": "#%%\n"
    }
   },
   "outputs": [
    {
     "name": "stdout",
     "output_type": "stream",
     "text": [
      "[[35071 14928]\n",
      " [13147 36837]]\n"
     ]
    },
    {
     "data": {
      "text/plain": [
       "<AxesSubplot:>"
      ]
     },
     "execution_count": 30,
     "metadata": {},
     "output_type": "execute_result"
    },
    {
     "data": {
      "image/png": "[encoded data removed]",
      "text/plain": [
       "<Figure size 432x288 with 2 Axes>"
      ]
     },
     "metadata": {
      "needs_background": "light"
     },
     "output_type": "display_data"
    }
   ],
   "source": [
    "cnf_mat = confusion_matrix(np.argmax(y_test, axis=1), np.argmax(model_01.predict(padded_comments_test), axis=1))\n",
    "\n",
    "print(cnf_mat)\n",
    "sns.heatmap(cnf_mat, annot=True, fmt='g', linewidths=.5, xticklabels=['Predicted 0', 'Predicted 1'], \n",
    "            yticklabels=['Actual 0', 'Actual 1'])"
   ]
  },
  {
   "cell_type": "code",
   "execution_count": 31,
   "metadata": {
    "pycharm": {
     "name": "#%%\n"
    }
   },
   "outputs": [
    {
     "data": {
      "image/png": "[encoded data removed]",
      "text/plain": [
       "<Figure size 432x288 with 1 Axes>"
      ]
     },
     "metadata": {
      "needs_background": "light"
     },
     "output_type": "display_data"
    }
   ],
   "source": [
    "plt.plot(h1.history['f1_m'][1:])\n",
    "plt.plot(h1.history['val_f1_m'][1:])\n",
    "plt.title('Model metric')\n",
    "plt.ylabel('F1 metric')\n",
    "plt.xlabel('epoch')\n",
    "plt.legend(['train','Validation'], loc='upper left')\n",
    "plt.show()"
   ]
  },
  {
   "cell_type": "code",
   "execution_count": 32,
   "metadata": {
    "pycharm": {
     "name": "#%%\n"
    }
   },
   "outputs": [
    {
     "data": {
      "image/png": "[encoded data removed]",
      "text/plain": [
       "<Figure size 432x288 with 1 Axes>"
      ]
     },
     "metadata": {
      "needs_background": "light"
     },
     "output_type": "display_data"
    }
   ],
   "source": [
    "plt.plot(h1.history['loss'][1:])\n",
    "plt.plot(h1.history['val_loss'][1:])\n",
    "plt.title('Model Los')\n",
    "plt.ylabel('Loss')\n",
    "plt.xlabel('epoch')\n",
    "plt.legend(['train','Validation'], loc='upper left')\n",
    "plt.show()"
   ]
  },
  {
   "cell_type": "markdown",
   "metadata": {},
   "source": [
    "## Conclusions"
   ]
  },
  {
   "cell_type": "code",
   "execution_count": null,
   "metadata": {
    "pycharm": {
     "name": "#%%\n"
    }
   },
   "outputs": [],
   "source": []
  }
 ],
 "metadata": {
  "hide_input": false,
  "kernelspec": {
   "display_name": "Python 3",
   "language": "python",
   "name": "python3"
  },
  "language_info": {
   "codemirror_mode": {
    "name": "ipython",
    "version": 3
   },
   "file_extension": ".py",
   "mimetype": "text/x-python",
   "name": "python",
   "nbconvert_exporter": "python",
   "pygments_lexer": "ipython3",
   "version": "3.8.6"
  },
  "toc": {
   "base_numbering": 1,
   "nav_menu": {},
   "number_sections": true,
   "sideBar": true,
   "skip_h1_title": false,
   "title_cell": "Table of Contents",
   "title_sidebar": "Contents",
   "toc_cell": false,
   "toc_position": {
    "height": "calc(100% - 180px)",
    "left": "10px",
    "top": "150px",
    "width": "357px"
   },
   "toc_section_display": true,
   "toc_window_display": true
  }
 },
 "nbformat": 4,
 "nbformat_minor": 4
}