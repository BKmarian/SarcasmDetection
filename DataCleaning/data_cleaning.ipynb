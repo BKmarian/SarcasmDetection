{
 "cells": [
  {
   "cell_type": "code",
   "execution_count": 1,
   "metadata": {
    "ExecuteTime": {
     "end_time": "2020-04-04T19:52:10.823362Z",
     "start_time": "2020-04-04T19:52:08.609961Z"
    }
   },
   "outputs": [
    {
     "name": "stderr",
     "output_type": "stream",
     "text": [
      "c:\\users\\sichi\\pycharmprojects\\nlpproiect\\venv\\lib\\site-packages\\numpy\\_distributor_init.py:30: UserWarning: loaded more than 1 DLL from .libs:\n",
      "c:\\users\\sichi\\pycharmprojects\\nlpproiect\\venv\\lib\\site-packages\\numpy\\.libs\\libopenblas.NOIJJG62EMASZI6NYURL6JBKM4EVBGM7.gfortran-win_amd64.dll\n",
      "c:\\users\\sichi\\pycharmprojects\\nlpproiect\\venv\\lib\\site-packages\\numpy\\.libs\\libopenblas.QVLO2T66WEPI7JZ63PS3HMOHFEY472BC.gfortran-win_amd64.dll\n",
      "c:\\users\\sichi\\pycharmprojects\\nlpproiect\\venv\\lib\\site-packages\\numpy\\.libs\\libopenblas.WCDJNK7YVMPZQ2ME2ZZHJJRJ3JIKNDB7.gfortran-win_amd64.dll\n",
      "  warnings.warn(\"loaded more than 1 DLL from .libs:\"\n"
     ]
    }
   ],
   "source": [
    "import re\n",
    "import warnings\n",
    "\n",
    "import pandas as pd\n",
    "import seaborn as sns\n",
    "warnings.filterwarnings('ignore')"
   ]
  },
  {
   "cell_type": "markdown",
   "metadata": {},
   "source": [
    "# Data"
   ]
  },
  {
   "cell_type": "markdown",
   "metadata": {},
   "source": [
    "## Loading data"
   ]
  },
  {
   "cell_type": "code",
   "execution_count": 3,
   "metadata": {
    "ExecuteTime": {
     "end_time": "2020-04-04T19:52:15.298827Z",
     "start_time": "2020-04-04T19:52:10.838265Z"
    }
   },
   "outputs": [],
   "source": [
    "train = pd.read_csv('data/raw/train.csv')\n",
    "cv = pd.read_csv('data/raw/cv.csv')\n",
    "test = pd.read_csv('data/raw/test.csv')"
   ]
  },
  {
   "cell_type": "code",
   "execution_count": 4,
   "metadata": {
    "ExecuteTime": {
     "end_time": "2020-04-04T19:52:15.325883Z",
     "start_time": "2020-04-04T19:52:15.301832Z"
    }
   },
   "outputs": [
    {
     "data": {
      "text/html": [
       "<div>\n",
       "<style scoped>\n",
       "    .dataframe tbody tr th:only-of-type {\n",
       "        vertical-align: middle;\n",
       "    }\n",
       "\n",
       "    .dataframe tbody tr th {\n",
       "        vertical-align: top;\n",
       "    }\n",
       "\n",
       "    .dataframe thead th {\n",
       "        text-align: right;\n",
       "    }\n",
       "</style>\n",
       "<table border=\"1\" class=\"dataframe\">\n",
       "  <thead>\n",
       "    <tr style=\"text-align: right;\">\n",
       "      <th></th>\n",
       "      <th>label</th>\n",
       "      <th>comment</th>\n",
       "      <th>author</th>\n",
       "      <th>subreddit</th>\n",
       "      <th>score</th>\n",
       "      <th>ups</th>\n",
       "      <th>downs</th>\n",
       "      <th>date</th>\n",
       "      <th>created_utc</th>\n",
       "      <th>parent_comment</th>\n",
       "    </tr>\n",
       "  </thead>\n",
       "  <tbody>\n",
       "    <tr>\n",
       "      <th>0</th>\n",
       "      <td>1</td>\n",
       "      <td>But they'll have all those reviews!</td>\n",
       "      <td>RoguishPoppet</td>\n",
       "      <td>ProductTesting</td>\n",
       "      <td>0</td>\n",
       "      <td>-1</td>\n",
       "      <td>-1</td>\n",
       "      <td>2016-11</td>\n",
       "      <td>2016-11-01 02:04:59</td>\n",
       "      <td>The dumb thing is, they are risking their sell...</td>\n",
       "    </tr>\n",
       "    <tr>\n",
       "      <th>1</th>\n",
       "      <td>1</td>\n",
       "      <td>wow it is totally unreasonable to assume that ...</td>\n",
       "      <td>pb2crazy</td>\n",
       "      <td>politics</td>\n",
       "      <td>2</td>\n",
       "      <td>-1</td>\n",
       "      <td>-1</td>\n",
       "      <td>2016-11</td>\n",
       "      <td>2016-11-01 02:42:11</td>\n",
       "      <td>Clinton campaign accuses FBI of 'blatant doubl...</td>\n",
       "    </tr>\n",
       "    <tr>\n",
       "      <th>2</th>\n",
       "      <td>1</td>\n",
       "      <td>Ho ho ho... But Melania said that there is no ...</td>\n",
       "      <td>pb2crazy</td>\n",
       "      <td>politics</td>\n",
       "      <td>8</td>\n",
       "      <td>-1</td>\n",
       "      <td>-1</td>\n",
       "      <td>2016-10</td>\n",
       "      <td>2016-10-18 16:20:53</td>\n",
       "      <td>Anyone else think that it was interesting the ...</td>\n",
       "    </tr>\n",
       "    <tr>\n",
       "      <th>3</th>\n",
       "      <td>1</td>\n",
       "      <td>I can't wait until @potus starts a twitter war...</td>\n",
       "      <td>kitduncan</td>\n",
       "      <td>politics</td>\n",
       "      <td>3</td>\n",
       "      <td>-1</td>\n",
       "      <td>-1</td>\n",
       "      <td>2016-11</td>\n",
       "      <td>2016-11-01 03:22:33</td>\n",
       "      <td>Here's what happens when Obama gives up his Tw...</td>\n",
       "    </tr>\n",
       "    <tr>\n",
       "      <th>4</th>\n",
       "      <td>1</td>\n",
       "      <td>gotta love the teachers who give exams on the ...</td>\n",
       "      <td>DEP61</td>\n",
       "      <td>CFBOffTopic</td>\n",
       "      <td>3</td>\n",
       "      <td>-1</td>\n",
       "      <td>-1</td>\n",
       "      <td>2016-11</td>\n",
       "      <td>2016-11-01 03:30:11</td>\n",
       "      <td>Monday night Drinking thread Brought to You by...</td>\n",
       "    </tr>\n",
       "  </tbody>\n",
       "</table>\n",
       "</div>"
      ],
      "text/plain": [
       "   label                                            comment         author  \\\n",
       "0      1                But they'll have all those reviews!  RoguishPoppet   \n",
       "1      1  wow it is totally unreasonable to assume that ...       pb2crazy   \n",
       "2      1  Ho ho ho... But Melania said that there is no ...       pb2crazy   \n",
       "3      1  I can't wait until @potus starts a twitter war...      kitduncan   \n",
       "4      1  gotta love the teachers who give exams on the ...          DEP61   \n",
       "\n",
       "        subreddit  score  ups  downs     date          created_utc  \\\n",
       "0  ProductTesting      0   -1     -1  2016-11  2016-11-01 02:04:59   \n",
       "1        politics      2   -1     -1  2016-11  2016-11-01 02:42:11   \n",
       "2        politics      8   -1     -1  2016-10  2016-10-18 16:20:53   \n",
       "3        politics      3   -1     -1  2016-11  2016-11-01 03:22:33   \n",
       "4     CFBOffTopic      3   -1     -1  2016-11  2016-11-01 03:30:11   \n",
       "\n",
       "                                      parent_comment  \n",
       "0  The dumb thing is, they are risking their sell...  \n",
       "1  Clinton campaign accuses FBI of 'blatant doubl...  \n",
       "2  Anyone else think that it was interesting the ...  \n",
       "3  Here's what happens when Obama gives up his Tw...  \n",
       "4  Monday night Drinking thread Brought to You by...  "
      ]
     },
     "execution_count": 4,
     "metadata": {},
     "output_type": "execute_result"
    }
   ],
   "source": [
    "train.head()"
   ]
  },
  {
   "cell_type": "code",
   "execution_count": 5,
   "metadata": {
    "ExecuteTime": {
     "end_time": "2020-04-04T19:52:15.333316Z",
     "start_time": "2020-04-04T19:52:15.328632Z"
    }
   },
   "outputs": [
    {
     "data": {
      "text/plain": [
       "(800000, 10)"
      ]
     },
     "execution_count": 5,
     "metadata": {},
     "output_type": "execute_result"
    }
   ],
   "source": [
    "train.shape"
   ]
  },
  {
   "cell_type": "markdown",
   "metadata": {},
   "source": [
    "We've loaded our balanced data set with 800K points."
   ]
  },
  {
   "cell_type": "code",
   "execution_count": 6,
   "metadata": {
    "ExecuteTime": {
     "end_time": "2020-04-04T19:52:15.628145Z",
     "start_time": "2020-04-04T19:52:15.336925Z"
    }
   },
   "outputs": [
    {
     "name": "stdout",
     "output_type": "stream",
     "text": [
      "<class 'pandas.core.frame.DataFrame'>\n",
      "RangeIndex: 800000 entries, 0 to 799999\n",
      "Data columns (total 10 columns):\n",
      " #   Column          Non-Null Count   Dtype \n",
      "---  ------          --------------   ----- \n",
      " 0   label           800000 non-null  int64 \n",
      " 1   comment         799972 non-null  object\n",
      " 2   author          800000 non-null  object\n",
      " 3   subreddit       800000 non-null  object\n",
      " 4   score           800000 non-null  int64 \n",
      " 5   ups             800000 non-null  int64 \n",
      " 6   downs           800000 non-null  int64 \n",
      " 7   date            800000 non-null  object\n",
      " 8   created_utc     800000 non-null  object\n",
      " 9   parent_comment  800000 non-null  object\n",
      "dtypes: int64(4), object(6)\n",
      "memory usage: 61.0+ MB\n"
     ]
    }
   ],
   "source": [
    "train.info()"
   ]
  },
  {
   "cell_type": "markdown",
   "metadata": {},
   "source": [
    "## Exploratory Data Analysis (EDA)"
   ]
  },
  {
   "cell_type": "code",
   "execution_count": 7,
   "metadata": {
    "ExecuteTime": {
     "end_time": "2020-04-04T19:52:15.646134Z",
     "start_time": "2020-04-04T19:52:15.631412Z"
    }
   },
   "outputs": [
    {
     "data": {
      "text/plain": [
       "1    400000\n",
       "0    400000\n",
       "Name: label, dtype: int64"
      ]
     },
     "execution_count": 7,
     "metadata": {},
     "output_type": "execute_result"
    }
   ],
   "source": [
    "train['label'].value_counts()"
   ]
  },
  {
   "cell_type": "code",
   "execution_count": 8,
   "metadata": {
    "ExecuteTime": {
     "end_time": "2020-04-04T19:52:15.937829Z",
     "start_time": "2020-04-04T19:52:15.648433Z"
    }
   },
   "outputs": [
    {
     "data": {
      "text/plain": [
       "<AxesSubplot:xlabel='label', ylabel='count'>"
      ]
     },
     "execution_count": 8,
     "metadata": {},
     "output_type": "execute_result"
    },
    {
     "data": {
      "image/png": "[encoded data removed]",
      "text/plain": [
       "<Figure size 432x288 with 1 Axes>"
      ]
     },
     "metadata": {
      "needs_background": "light"
     },
     "output_type": "display_data"
    }
   ],
   "source": [
    "sns.countplot(x='label', data=train)"
   ]
  },
  {
   "cell_type": "code",
   "execution_count": 24,
   "metadata": {
    "ExecuteTime": {
     "end_time": "2020-04-04T19:52:22.419730Z",
     "start_time": "2020-04-04T19:52:22.407615Z"
    }
   },
   "outputs": [],
   "source": [
    "import neattext as nt\n",
    "\n",
    "def removeWordsWithNumbers(text):\n",
    "    return re.sub(r'\\S*\\d\\S*', '', text).strip()\n",
    "\n",
    "def remove_emoticons(text):\n",
    "    emoticon_pattern = re.compile(u\"\\U0001F600-\\U0001F64F\", flags=re.UNICODE)\n",
    "    return emoticon_pattern.sub(r'', text)"
   ]
  },
  {
   "cell_type": "code",
   "execution_count": 25,
   "metadata": {
    "ExecuteTime": {
     "end_time": "2020-04-04T19:52:22.815818Z",
     "start_time": "2020-04-04T19:52:22.811032Z"
    }
   },
   "outputs": [],
   "source": [
    "def clean_data(content):\n",
    "    content = str(content)\n",
    "    content = remove_emoticons(content)\n",
    "    content = removeWordsWithNumbers(content)\n",
    "    docx = nt.TextFrame(text=content)\n",
    "    docx.remove_emojis()\n",
    "    docx.remove_html_tags()\n",
    "    docx.remove_puncts()\n",
    "    docx.remove_urls()\n",
    "    docx.remove_stopwords(lang='en')\n",
    "    docx.remove_special_characters()\n",
    "    docx.fix_contractions()\n",
    "    docx.remove_numbers()\n",
    "\n",
    "    return ' '.join(content.lower().strip().split())"
   ]
  },
  {
   "cell_type": "code",
   "execution_count": 26,
   "metadata": {
    "ExecuteTime": {
     "end_time": "2020-04-04T19:54:06.814341Z",
     "start_time": "2020-04-04T19:52:23.466467Z"
    }
   },
   "outputs": [],
   "source": [
    "cleaned_train = train.dropna(how='any', axis=0)\n",
    "cleaned_train['comment'] = cleaned_train['comment'].apply(clean_data)\n",
    "cleaned_train['author'] = cleaned_train['author'].apply(lambda x: x.strip())\n",
    "\n",
    "cleaned_cv = cv.dropna(how='any', axis=0)\n",
    "cleaned_cv['comment'] = cleaned_cv['comment'].apply(clean_data)\n",
    "cleaned_cv['author'] = cleaned_cv['author'].apply(lambda x: x.strip())\n",
    "\n",
    "cleaned_test = test.dropna(how='any', axis=0)\n",
    "cleaned_test['comment'] = cleaned_test['comment'].apply(clean_data)\n",
    "cleaned_test['author'] = cleaned_test['author'].apply(lambda x: x.strip())"
   ]
  },
  {
   "cell_type": "code",
   "execution_count": 27,
   "metadata": {
    "ExecuteTime": {
     "end_time": "2020-04-04T19:54:08.028563Z",
     "start_time": "2020-04-04T19:54:08.024110Z"
    }
   },
   "outputs": [
    {
     "data": {
      "text/plain": [
       "'Because anecdotes mean anything and being gay/trans is evil'"
      ]
     },
     "execution_count": 27,
     "metadata": {},
     "output_type": "execute_result"
    }
   ],
   "source": [
    "#testing\n",
    "train['comment'].iloc[66]"
   ]
  },
  {
   "cell_type": "code",
   "execution_count": 28,
   "metadata": {
    "ExecuteTime": {
     "end_time": "2020-04-04T19:54:09.037022Z",
     "start_time": "2020-04-04T19:54:09.032375Z"
    }
   },
   "outputs": [
    {
     "data": {
      "text/plain": [
       "'because anecdotes mean anything and being gay/trans is evil'"
      ]
     },
     "execution_count": 28,
     "metadata": {},
     "output_type": "execute_result"
    }
   ],
   "source": [
    "#testing\n",
    "cleaned_train['comment'].iloc[66]"
   ]
  },
  {
   "cell_type": "code",
   "execution_count": 29,
   "metadata": {
    "ExecuteTime": {
     "end_time": "2020-04-04T19:54:54.382488Z",
     "start_time": "2020-04-04T19:54:54.066177Z"
    }
   },
   "outputs": [],
   "source": [
    "cleaned_train['comment'] = cleaned_train['comment'].astype(str)\n",
    "cleaned_cv['comment'] = cleaned_cv['comment'].astype(str)\n",
    "cleaned_test['comment'] = cleaned_test['comment'].astype(str)\n",
    "\n",
    "cleaned_train['author'] = cleaned_train['author'].astype(str)\n",
    "cleaned_cv['author'] = cleaned_cv['author'].astype(str)\n",
    "cleaned_test['author'] = cleaned_test['author'].astype(str)"
   ]
  },
  {
   "cell_type": "code",
   "execution_count": 31,
   "metadata": {
    "ExecuteTime": {
     "end_time": "2020-04-04T19:55:02.990172Z",
     "start_time": "2020-04-04T19:54:54.881580Z"
    }
   },
   "outputs": [],
   "source": [
    "cleaned_train.to_csv('data/clean/train.csv', index=None)\n",
    "cleaned_cv.to_csv('data/clean/cv.csv', index=None)\n",
    "cleaned_test.to_csv('data/clean/test.csv', index=None)"
   ]
  },
  {
   "cell_type": "code",
   "execution_count": null,
   "metadata": {},
   "outputs": [],
   "source": []
  },
  {
   "cell_type": "code",
   "execution_count": null,
   "metadata": {},
   "outputs": [],
   "source": []
  }
 ],
 "metadata": {
  "hide_input": false,
  "kernelspec": {
   "display_name": "Python 3",
   "language": "python",
   "name": "python3"
  },
  "language_info": {
   "codemirror_mode": {
    "name": "ipython",
    "version": 3
   },
   "file_extension": ".py",
   "mimetype": "text/x-python",
   "name": "python",
   "nbconvert_exporter": "python",
   "pygments_lexer": "ipython3",
   "version": "3.8.6"
  },
  "toc": {
   "base_numbering": 1,
   "nav_menu": {},
   "number_sections": true,
   "sideBar": true,
   "skip_h1_title": false,
   "title_cell": "Table of Contents",
   "title_sidebar": "Contents",
   "toc_cell": false,
   "toc_position": {
    "height": "calc(100% - 180px)",
    "left": "10px",
    "top": "150px",
    "width": "336px"
   },
   "toc_section_display": true,
   "toc_window_display": true
  }
 },
 "nbformat": 4,
 "nbformat_minor": 2
}