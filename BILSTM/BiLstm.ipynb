{
 "cells": [
  {
   "cell_type": "code",
   "execution_count": 1,
   "metadata": {
    "_cell_guid": "79c7e3d0-c299-4dcb-8224-4455121ee9b0",
    "_kg_hide-input": true,
    "_uuid": "d629ff2d2480ee46fbb7e2d37f6b5fab8052498a",
    "execution": {
     "iopub.execute_input": "2021-11-01T07:36:28.087612Z",
     "iopub.status.busy": "2021-11-01T07:36:28.087148Z",
     "iopub.status.idle": "2021-11-01T07:36:33.160596Z",
     "shell.execute_reply": "2021-11-01T07:36:33.159704Z",
     "shell.execute_reply.started": "2021-11-01T07:36:28.087576Z"
    },
    "pycharm": {
     "is_executing": true
    }
   },
   "outputs": [
    {
     "name": "stderr",
     "output_type": "stream",
     "text": [
      "c:\\users\\sichi\\pycharmprojects\\nlpproiect\\venv\\lib\\site-packages\\numpy\\_distributor_init.py:30: UserWarning: loaded more than 1 DLL from .libs:\n",
      "c:\\users\\sichi\\pycharmprojects\\nlpproiect\\venv\\lib\\site-packages\\numpy\\.libs\\libopenblas.NOIJJG62EMASZI6NYURL6JBKM4EVBGM7.gfortran-win_amd64.dll\n",
      "c:\\users\\sichi\\pycharmprojects\\nlpproiect\\venv\\lib\\site-packages\\numpy\\.libs\\libopenblas.QVLO2T66WEPI7JZ63PS3HMOHFEY472BC.gfortran-win_amd64.dll\n",
      "c:\\users\\sichi\\pycharmprojects\\nlpproiect\\venv\\lib\\site-packages\\numpy\\.libs\\libopenblas.WCDJNK7YVMPZQ2ME2ZZHJJRJ3JIKNDB7.gfortran-win_amd64.dll\n",
      "  warnings.warn(\"loaded more than 1 DLL from .libs:\"\n"
     ]
    }
   ],
   "source": [
    "import warnings\n",
    "import numpy as np\n",
    "import pandas as pd\n",
    "import seaborn as sns\n",
    "from gensim.models import KeyedVectors\n",
    "from keras import Input, Model\n",
    "from keras.callbacks import TensorBoard, ReduceLROnPlateau, ModelCheckpoint, EarlyStopping\n",
    "from keras.utils.vis_utils import plot_model\n",
    "from keras_preprocessing.text import Tokenizer\n",
    "from tensorflow.keras.utils import to_categorical\n",
    "sns.set()\n",
    "import matplotlib.pyplot as plt\n",
    "%matplotlib inline\n",
    "from tensorflow.keras.layers import Embedding\n",
    "from tensorflow.keras.preprocessing.sequence import pad_sequences\n",
    "from tensorflow.keras.layers import LSTM, Bidirectional\n",
    "from tensorflow.keras.layers import Dense, Dropout\n",
    "from keras.layers import  Flatten\n",
    "from sklearn.metrics import  confusion_matrix,f1_score,accuracy_score\n",
    "warnings.filterwarnings('ignore')"
   ]
  },
  {
   "cell_type": "code",
   "execution_count": 2,
   "metadata": {
    "_kg_hide-input": true,
    "execution": {
     "iopub.execute_input": "2021-11-01T08:38:11.270558Z",
     "iopub.status.busy": "2021-11-01T08:38:11.270140Z",
     "iopub.status.idle": "2021-11-01T08:38:18.127254Z",
     "shell.execute_reply": "2021-11-01T08:38:18.126312Z",
     "shell.execute_reply.started": "2021-11-01T08:38:11.270519Z"
    },
    "pycharm": {
     "is_executing": true
    }
   },
   "outputs": [],
   "source": [
    "# Importing the csv data files \n",
    "train = pd.read_csv('data/clean/train.csv')\n",
    "cv = pd.read_csv('data/clean/cv.csv')\n",
    "test = pd.read_csv('data/clean/test.csv')\n",
    "\n"
   ]
  },
  {
   "cell_type": "code",
   "execution_count": 3,
   "metadata": {
    "pycharm": {
     "is_executing": true,
     "name": "#%%\n"
    }
   },
   "outputs": [],
   "source": [
    "train['comment'] = train['comment'].astype(str)\n",
    "cv['comment'] = cv['comment'].astype(str)\n",
    "test['comment'] = test['comment'].astype(str)\n",
    "\n",
    "train['author'] = train['author'].astype(str)\n",
    "cv['author'] = cv['author'].astype(str)\n",
    "test['author'] = test['author'].astype(str)"
   ]
  },
  {
   "cell_type": "code",
   "execution_count": 4,
   "metadata": {
    "pycharm": {
     "is_executing": true,
     "name": "#%%\n"
    }
   },
   "outputs": [
    {
     "name": "stdout",
     "output_type": "stream",
     "text": [
      "149433\n"
     ]
    }
   ],
   "source": [
    "t = Tokenizer()\n",
    "t.fit_on_texts(train['comment'].values)\n",
    "vocab_size = len(t.word_index) + 1\n",
    "print(vocab_size)"
   ]
  },
  {
   "cell_type": "code",
   "execution_count": 5,
   "metadata": {
    "pycharm": {
     "is_executing": true,
     "name": "#%%\n"
    }
   },
   "outputs": [],
   "source": [
    "encoded_comments_train = t.texts_to_sequences(train['comment'])\n",
    "encoded_comments_cv = t.texts_to_sequences(cv['comment'])\n",
    "encoded_comments_test = t.texts_to_sequences(test['comment'])"
   ]
  },
  {
   "cell_type": "code",
   "execution_count": 6,
   "metadata": {
    "_kg_hide-input": true,
    "execution": {
     "iopub.execute_input": "2021-11-01T07:37:35.663923Z",
     "iopub.status.busy": "2021-11-01T07:37:35.663479Z",
     "iopub.status.idle": "2021-11-01T07:38:05.413649Z",
     "shell.execute_reply": "2021-11-01T07:38:05.412788Z",
     "shell.execute_reply.started": "2021-11-01T07:37:35.663883Z"
    },
    "pycharm": {
     "is_executing": true
    }
   },
   "outputs": [],
   "source": [
    "max_sent_length = 70\n",
    "padded_comments_train = pad_sequences(encoded_comments_train, maxlen=max_sent_length, padding='post')\n",
    "padded_comments_cv = pad_sequences(encoded_comments_cv, maxlen=max_sent_length, padding='post')\n",
    "padded_comments_test = pad_sequences(encoded_comments_test, maxlen=max_sent_length, padding='post')"
   ]
  },
  {
   "cell_type": "code",
   "execution_count": 7,
   "metadata": {
    "pycharm": {
     "is_executing": true,
     "name": "#%%\n"
    }
   },
   "outputs": [],
   "source": [
    "y_train = train['label'].values\n",
    "y_cv = cv['label'].values\n",
    "y_test = test['label'].values\n",
    "\n",
    "y_train = to_categorical(y_train, num_classes=2)\n",
    "y_cv = to_categorical(y_cv, num_classes=2)\n",
    "y_test = to_categorical(y_test, num_classes=2)"
   ]
  },
  {
   "cell_type": "code",
   "execution_count": 8,
   "metadata": {
    "pycharm": {
     "is_executing": true,
     "name": "#%%\n"
    }
   },
   "outputs": [],
   "source": [
    "w2v_model = KeyedVectors.load_word2vec_format('GoogleNews-vectors-negative300.bin', binary=True)"
   ]
  },
  {
   "cell_type": "code",
   "execution_count": 9,
   "metadata": {
    "pycharm": {
     "is_executing": true,
     "name": "#%%\n"
    }
   },
   "outputs": [
    {
     "data": {
      "text/plain": [
       "(149433, 300)"
      ]
     },
     "execution_count": 9,
     "metadata": {},
     "output_type": "execute_result"
    }
   ],
   "source": [
    "embedding_matrix_w2v = np.zeros((vocab_size, 300))\n",
    "for word, i in t.word_index.items():\n",
    "    try:\n",
    "        embedding_vector = w2v_model[word]\n",
    "    except:\n",
    "        embedding_vector = [0]*300\n",
    "\n",
    "    if embedding_vector is not None:\n",
    "        embedding_matrix_w2v[i] = embedding_vector\n",
    "\n",
    "embedding_matrix_w2v.shape"
   ]
  },
  {
   "cell_type": "code",
   "execution_count": null,
   "outputs": [],
   "source": [
    "input_data = Input(shape=(max_sent_length,), name='main_input')\n",
    "embedding_layer = Embedding(vocab_size, 300, weights=[embedding_matrix_w2v], trainable=False)(input_data)\n",
    "dropout_1 = Dropout(0.3)(embedding_layer)\n",
    "bilstm = Bidirectional(LSTM(100))(dropout_1)\n",
    "dropout_2 = Dropout(0.3)(bilstm)\n",
    "max_2 = Flatten()(dropout_2)\n",
    "flatten = Flatten()(max_2)\n",
    "out = Dense(2, activation='softmax', name='fully_connected')(flatten)\n",
    "\n",
    "lstm_model = Model(inputs=[input_data], outputs=[out])\n",
    "\n",
    "print(lstm_model.summary())\n",
    "\n",
    "#keras.utils.vis_utils.pydot = pyd\n",
    "plot_model(lstm_model, to_file='lstm_model.png')"
   ],
   "metadata": {
    "collapsed": false,
    "pycharm": {
     "name": "#%%\n"
    }
   }
  },
  {
   "cell_type": "code",
   "execution_count": 12,
   "metadata": {
    "pycharm": {
     "is_executing": true,
     "name": "#%%\n"
    }
   },
   "outputs": [],
   "source": [
    "tensorboard = TensorBoard(log_dir='lstm_model')\n",
    "\n",
    "reduce_lr = ReduceLROnPlateau(monitor='val_f1_m',\n",
    "                              mode = 'max',\n",
    "                              factor=0.5,\n",
    "                              patience=5,\n",
    "                              min_lr=0.0001,\n",
    "                              verbose=10)\n",
    "\n",
    "checkpoint = ModelCheckpoint(\"lstm_model.h5\",\n",
    "                               monitor=\"val_f1_m\",\n",
    "                               mode=\"max\",\n",
    "                               save_best_only = True,\n",
    "                               verbose=1)\n",
    "\n",
    "earlystop = EarlyStopping(monitor = 'val_f1_m',\n",
    "                            mode=\"max\",\n",
    "                            min_delta = 0,\n",
    "                            patience = 5,\n",
    "                            verbose=1)"
   ]
  },
  {
   "cell_type": "code",
   "execution_count": 13,
   "metadata": {
    "pycharm": {
     "is_executing": true,
     "name": "#%%\n"
    }
   },
   "outputs": [
    {
     "name": "stdout",
     "output_type": "stream",
     "text": [
      "Epoch 1/50\n",
      "12500/12500 [==============================] - ETA: 0s - loss: 0.5901 - f1_m: 0.6800 - accuracy: 0.6800\n",
      "Epoch 00001: val_f1_m improved from -inf to 0.71483, saving model to lstm_model.h5\n",
      "12500/12500 [==============================] - 2263s 181ms/step - loss: 0.5901 - f1_m: 0.6800 - accuracy: 0.6800 - val_loss: 0.5510 - val_f1_m: 0.7148 - val_accuracy: 0.7148 - lr: 0.0010\n",
      "Epoch 2/50\n",
      "12500/12500 [==============================] - ETA: 0s - loss: 0.5583 - f1_m: 0.7080 - accuracy: 0.7080\n",
      "Epoch 00002: val_f1_m improved from 0.71483 to 0.72775, saving model to lstm_model.h5\n",
      "12500/12500 [==============================] - 2668s 213ms/step - loss: 0.5583 - f1_m: 0.7080 - accuracy: 0.7080 - val_loss: 0.5384 - val_f1_m: 0.7278 - val_accuracy: 0.7278 - lr: 0.0010\n",
      "Epoch 3/50\n",
      "12500/12500 [==============================] - ETA: 0s - loss: 0.5467 - f1_m: 0.7173 - accuracy: 0.7173\n",
      "Epoch 00003: val_f1_m improved from 0.72775 to 0.73348, saving model to lstm_model.h5\n",
      "12500/12500 [==============================] - 2672s 214ms/step - loss: 0.5467 - f1_m: 0.7173 - accuracy: 0.7173 - val_loss: 0.5299 - val_f1_m: 0.7335 - val_accuracy: 0.7335 - lr: 0.0010\n",
      "Epoch 4/50\n",
      "12500/12500 [==============================] - ETA: 0s - loss: 0.5402 - f1_m: 0.7226 - accuracy: 0.7226\n",
      "Epoch 00004: val_f1_m improved from 0.73348 to 0.73850, saving model to lstm_model.h5\n",
      "12500/12500 [==============================] - 2695s 216ms/step - loss: 0.5402 - f1_m: 0.7226 - accuracy: 0.7226 - val_loss: 0.5244 - val_f1_m: 0.7385 - val_accuracy: 0.7385 - lr: 0.0010\n",
      "Epoch 5/50\n",
      "12500/12500 [==============================] - ETA: 0s - loss: 0.5345 - f1_m: 0.7268 - accuracy: 0.7268\n",
      "Epoch 00005: val_f1_m improved from 0.73850 to 0.73918, saving model to lstm_model.h5\n",
      "12500/12500 [==============================] - 2694s 216ms/step - loss: 0.5345 - f1_m: 0.7268 - accuracy: 0.7268 - val_loss: 0.5226 - val_f1_m: 0.7392 - val_accuracy: 0.7392 - lr: 0.0010\n",
      "Epoch 6/50\n",
      "12500/12500 [==============================] - ETA: 0s - loss: 0.5306 - f1_m: 0.7298 - accuracy: 0.7298\n",
      "Epoch 00006: val_f1_m improved from 0.73918 to 0.74165, saving model to lstm_model.h5\n",
      "12500/12500 [==============================] - 2680s 214ms/step - loss: 0.5306 - f1_m: 0.7298 - accuracy: 0.7298 - val_loss: 0.5203 - val_f1_m: 0.7417 - val_accuracy: 0.7417 - lr: 0.0010\n",
      "Epoch 7/50\n",
      "12500/12500 [==============================] - ETA: 0s - loss: 0.5275 - f1_m: 0.7319 - accuracy: 0.7319- ETA: 9s - l\n",
      "Epoch 00007: val_f1_m improved from 0.74165 to 0.74221, saving model to lstm_model.h5\n",
      "12500/12500 [==============================] - 2724s 218ms/step - loss: 0.5275 - f1_m: 0.7319 - accuracy: 0.7319 - val_loss: 0.5189 - val_f1_m: 0.7422 - val_accuracy: 0.7422 - lr: 0.0010\n",
      "Epoch 8/50\n",
      "12500/12500 [==============================] - ETA: 0s - loss: 0.5251 - f1_m: 0.7337 - accuracy: 0.7337\n",
      "Epoch 00008: val_f1_m improved from 0.74221 to 0.74242, saving model to lstm_model.h5\n",
      "12500/12500 [==============================] - 2658s 213ms/step - loss: 0.5251 - f1_m: 0.7337 - accuracy: 0.7337 - val_loss: 0.5190 - val_f1_m: 0.7424 - val_accuracy: 0.7424 - lr: 0.0010\n",
      "Epoch 9/50\n",
      "12500/12500 [==============================] - ETA: 0s - loss: 0.5225 - f1_m: 0.7354 - accuracy: 0.7354\n",
      "Epoch 00009: val_f1_m did not improve from 0.74242\n",
      "12500/12500 [==============================] - 2681s 214ms/step - loss: 0.5225 - f1_m: 0.7354 - accuracy: 0.7354 - val_loss: 0.5187 - val_f1_m: 0.7420 - val_accuracy: 0.7420 - lr: 0.0010\n",
      "Epoch 10/50\n",
      "12500/12500 [==============================] - ETA: 0s - loss: 0.5202 - f1_m: 0.7371 - accuracy: 0.7371\n",
      "Epoch 00010: val_f1_m did not improve from 0.74242\n",
      "12500/12500 [==============================] - 2649s 212ms/step - loss: 0.5202 - f1_m: 0.7371 - accuracy: 0.7371 - val_loss: 0.5193 - val_f1_m: 0.7419 - val_accuracy: 0.7419 - lr: 0.0010\n",
      "Epoch 11/50\n",
      "12500/12500 [==============================] - ETA: 0s - loss: 0.5187 - f1_m: 0.7385 - accuracy: 0.7385- ETA: 1s - loss: 0.5187 - f1_m: 0.7385 - accuracy: 0 - ETA: 0s - loss: 0.5187 - f1_m: 0.7385 - accuracy: 0.7\n",
      "Epoch 00011: val_f1_m improved from 0.74242 to 0.74351, saving model to lstm_model.h5\n",
      "12500/12500 [==============================] - 2685s 215ms/step - loss: 0.5187 - f1_m: 0.7385 - accuracy: 0.7385 - val_loss: 0.5175 - val_f1_m: 0.7435 - val_accuracy: 0.7435 - lr: 0.0010\n",
      "Epoch 12/50\n",
      "12500/12500 [==============================] - ETA: 0s - loss: 0.5176 - f1_m: 0.7391 - accuracy: 0.7391\n",
      "Epoch 00012: val_f1_m did not improve from 0.74351\n",
      "12500/12500 [==============================] - 2665s 213ms/step - loss: 0.5176 - f1_m: 0.7391 - accuracy: 0.7391 - val_loss: 0.5180 - val_f1_m: 0.7433 - val_accuracy: 0.7433 - lr: 0.0010\n",
      "Epoch 13/50\n",
      "12500/12500 [==============================] - ETA: 0s - loss: 0.5163 - f1_m: 0.7402 - accuracy: 0.7402\n",
      "Epoch 00013: val_f1_m improved from 0.74351 to 0.74402, saving model to lstm_model.h5\n",
      "12500/12500 [==============================] - 2631s 210ms/step - loss: 0.5163 - f1_m: 0.7402 - accuracy: 0.7402 - val_loss: 0.5171 - val_f1_m: 0.7440 - val_accuracy: 0.7440 - lr: 0.0010\n",
      "Epoch 14/50\n",
      "12500/12500 [==============================] - ETA: 0s - loss: 0.5151 - f1_m: 0.7407 - accuracy: 0.7407\n",
      "Epoch 00014: val_f1_m did not improve from 0.74402\n",
      "12500/12500 [==============================] - 2573s 206ms/step - loss: 0.5151 - f1_m: 0.7407 - accuracy: 0.7407 - val_loss: 0.5202 - val_f1_m: 0.7425 - val_accuracy: 0.7425 - lr: 0.0010\n",
      "Epoch 15/50\n",
      "12500/12500 [==============================] - ETA: 0s - loss: 0.5145 - f1_m: 0.7414 - accuracy: 0.7414\n",
      "Epoch 00015: val_f1_m did not improve from 0.74402\n",
      "12500/12500 [==============================] - 2615s 209ms/step - loss: 0.5145 - f1_m: 0.7414 - accuracy: 0.7414 - val_loss: 0.5166 - val_f1_m: 0.7434 - val_accuracy: 0.7434 - lr: 0.0010\n",
      "Epoch 16/50\n",
      "12500/12500 [==============================] - ETA: 0s - loss: 0.5134 - f1_m: 0.7415 - accuracy: 0.7415\n",
      "Epoch 00016: val_f1_m did not improve from 0.74402\n",
      "12500/12500 [==============================] - 2632s 211ms/step - loss: 0.5134 - f1_m: 0.7415 - accuracy: 0.7415 - val_loss: 0.5176 - val_f1_m: 0.7438 - val_accuracy: 0.7438 - lr: 0.0010\n",
      "Epoch 17/50\n",
      "12500/12500 [==============================] - ETA: 0s - loss: 0.5131 - f1_m: 0.7428 - accuracy: 0.7428\n",
      "Epoch 00017: val_f1_m did not improve from 0.74402\n",
      "12500/12500 [==============================] - 2604s 208ms/step - loss: 0.5131 - f1_m: 0.7428 - accuracy: 0.7428 - val_loss: 0.5174 - val_f1_m: 0.7436 - val_accuracy: 0.7436 - lr: 0.0010\n",
      "Epoch 18/50\n",
      "12500/12500 [==============================] - ETA: 0s - loss: 0.5122 - f1_m: 0.7426 - accuracy: 0.7426\n",
      "Epoch 00018: val_f1_m did not improve from 0.74402\n",
      "\n",
      "Epoch 00018: ReduceLROnPlateau reducing learning rate to 0.0005000000237487257.\n",
      "12500/12500 [==============================] - 2575s 206ms/step - loss: 0.5122 - f1_m: 0.7426 - accuracy: 0.7426 - val_loss: 0.5175 - val_f1_m: 0.7437 - val_accuracy: 0.7437 - lr: 0.0010\n",
      "Epoch 00018: early stopping\n"
     ]
    }
   ],
   "source": [
    "lstm_model.compile(loss='binary_crossentropy',optimizer='adam',metrics=[f1_score,accuracy_score])\n",
    "\n",
    "lstm_model_h1 = lstm_model.fit(padded_comments_train, y_train,\n",
    "               batch_size=64,\n",
    "               epochs=50,\n",
    "               verbose=1, callbacks=[tensorboard, checkpoint, earlystop, reduce_lr],\n",
    "               validation_data=(padded_comments_cv, y_cv))"
   ]
  },
  {
   "cell_type": "code",
   "execution_count": 14,
   "metadata": {
    "pycharm": {
     "is_executing": true
    }
   },
   "outputs": [
    {
     "name": "stdout",
     "output_type": "stream",
     "text": [
      "[[  65  223 1086 ...    0    0    0]\n",
      " [  13    4  154 ...    0    0    0]\n",
      " [  52    9 1984 ...    0    0    0]\n",
      " ...\n",
      " [ 103   22 1329 ...    0    0    0]\n",
      " [  68    7   31 ...    0    0    0]\n",
      " [  59  118   11 ...    0    0    0]]\n",
      "[[0. 1.]\n",
      " [0. 1.]\n",
      " [0. 1.]\n",
      " ...\n",
      " [1. 0.]\n",
      " [1. 0.]\n",
      " [1. 0.]]\n"
     ]
    }
   ],
   "source": [
    "print(padded_comments_cv)\n",
    "print(y_cv)"
   ]
  },
  {
   "cell_type": "code",
   "execution_count": 15,
   "metadata": {
    "pycharm": {
     "is_executing": true,
     "name": "#%%\n"
    }
   },
   "outputs": [
    {
     "name": "stdout",
     "output_type": "stream",
     "text": [
      "3125/3125 [==============================] - 141s 45ms/step - loss: 0.5120 - f1_m: 0.7487 - accuracy: 0.7487\n"
     ]
    },
    {
     "data": {
      "text/plain": [
       "[0.5119606256484985, 0.7487272620201111, 0.7487072944641113]"
      ]
     },
     "execution_count": 15,
     "metadata": {},
     "output_type": "execute_result"
    }
   ],
   "source": [
    "score_1 = lstm_model.evaluate(padded_comments_test, y_test)\n",
    "score_1"
   ]
  },
  {
   "cell_type": "code",
   "execution_count": 17,
   "metadata": {
    "pycharm": {
     "is_executing": true,
     "name": "#%%\n"
    }
   },
   "outputs": [
    {
     "name": "stdout",
     "output_type": "stream",
     "text": [
      "[[37899 12100]\n",
      " [13025 36959]]\n"
     ]
    },
    {
     "data": {
      "text/plain": [
       "<AxesSubplot:>"
      ]
     },
     "execution_count": 17,
     "metadata": {},
     "output_type": "execute_result"
    },
    {
     "data": {
      "image/png": "[encoded data removed]",
      "text/plain": [
       "<Figure size 432x288 with 2 Axes>"
      ]
     },
     "metadata": {
      "needs_background": "light"
     },
     "output_type": "display_data"
    }
   ],
   "source": [
    "cnf_mat = confusion_matrix(np.argmax(y_test, axis=1), np.argmax(lstm_model.predict(padded_comments_test), axis=1))\n",
    "\n",
    "print(cnf_mat)\n",
    "sns.heatmap(cnf_mat, annot=True, fmt='g', linewidths=.5, xticklabels=['Predicted 0', 'Predicted 1'],\n",
    "            yticklabels=['Actual 0', 'Actual 1'])"
   ]
  },
  {
   "cell_type": "code",
   "execution_count": 18,
   "metadata": {
    "_kg_hide-input": true,
    "execution": {
     "iopub.execute_input": "2021-11-01T08:10:05.468895Z",
     "iopub.status.busy": "2021-11-01T08:10:05.467229Z",
     "iopub.status.idle": "2021-11-01T08:11:12.348391Z",
     "shell.execute_reply": "2021-11-01T08:11:12.347369Z",
     "shell.execute_reply.started": "2021-11-01T08:10:05.468850Z"
    },
    "pycharm": {
     "is_executing": true
    }
   },
   "outputs": [
    {
     "data": {
      "image/png": "[encoded data removed]",
      "text/plain": [
       "<Figure size 432x288 with 1 Axes>"
      ]
     },
     "metadata": {
      "needs_background": "light"
     },
     "output_type": "display_data"
    }
   ],
   "source": [
    "plt.plot(lstm_model_h1.history['f1_m'][1:])\n",
    "plt.plot(lstm_model_h1.history['val_f1_m'][1:])\n",
    "plt.title('Model metric')\n",
    "plt.ylabel('F1 metric')\n",
    "plt.xlabel('epoch')\n",
    "plt.legend(['train','Validation'], loc='upper left')\n",
    "plt.show()"
   ]
  },
  {
   "cell_type": "code",
   "execution_count": 19,
   "metadata": {
    "pycharm": {
     "is_executing": true,
     "name": "#%%\n"
    }
   },
   "outputs": [
    {
     "data": {
      "image/png": "[encoded data removed]",
      "text/plain": [
       "<Figure size 432x288 with 1 Axes>"
      ]
     },
     "metadata": {
      "needs_background": "light"
     },
     "output_type": "display_data"
    }
   ],
   "source": [
    "plt.plot(lstm_model_h1.history['loss'][1:])\n",
    "plt.plot(lstm_model_h1.history['val_loss'][1:])\n",
    "plt.title('Model Los')\n",
    "plt.ylabel('Loss')\n",
    "plt.xlabel('epoch')\n",
    "plt.legend(['train','Validation'], loc='upper left')\n",
    "plt.show()"
   ]
  },
  {
   "cell_type": "code",
   "execution_count": null,
   "metadata": {
    "pycharm": {
     "is_executing": true
    }
   },
   "outputs": [],
   "source": []
  }
 ],
 "metadata": {
  "kernelspec": {
   "display_name": "Python 3",
   "language": "python",
   "name": "python3"
  },
  "language_info": {
   "codemirror_mode": {
    "name": "ipython",
    "version": 3
   },
   "file_extension": ".py",
   "mimetype": "text/x-python",
   "name": "python",
   "nbconvert_exporter": "python",
   "pygments_lexer": "ipython3",
   "version": "3.8.6"
  }
 },
 "nbformat": 4,
 "nbformat_minor": 4
}