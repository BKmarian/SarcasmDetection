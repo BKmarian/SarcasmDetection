{
 "metadata": {
  "kernelspec": {
   "language": "python",
   "display_name": "Python 3",
   "name": "python3"
  },
  "language_info": {
   "pygments_lexer": "ipython3",
   "nbconvert_exporter": "python",
   "version": "3.6.4",
   "file_extension": ".py",
   "codemirror_mode": {
    "name": "ipython",
    "version": 3
   },
   "name": "python",
   "mimetype": "text/x-python"
  }
 },
 "nbformat_minor": 4,
 "nbformat": 4,
 "cells": [
  {
   "cell_type": "code",
   "source": [],
   "metadata": {
    "_uuid": "8f2839f25d086af736a60e9eeb907d3b93b6e0e5",
    "_cell_guid": "b1076dfc-b9ad-4769-8c92-a6c4dae69d19",
    "execution": {
     "iopub.status.busy": "2022-04-10T06:28:10.366648Z",
     "iopub.execute_input": "2022-04-10T06:28:10.367053Z",
     "iopub.status.idle": "2022-04-10T07:21:20.99956Z",
     "shell.execute_reply.started": "2022-04-10T06:28:10.366961Z",
     "shell.execute_reply": "2022-04-10T07:21:20.997872Z"
    },
    "trusted": true
   },
   "execution_count": null,
   "outputs": []
  },
  {
   "cell_type": "code",
   "source": [
    "!pip install simpletransformers -U --quiet\n",
    "!pip install pytorch --quiet\n",
    "!pip install Cython --quiet\n",
    "#!pip uninstall setuptools\n",
    "#!pip install setuptools==59.5.0\n",
    "import os\n",
    "import random\n",
    "from sklearn.metrics import f1_score\n",
    "import numpy as np\n",
    "import pandas as pd\n",
    "import sklearn\n",
    "from sklearn.metrics import accuracy_score\n",
    "import torch\n",
    "\n",
    "from simpletransformers.classification import ClassificationModel\n",
    "from sklearn.model_selection import KFold"
   ],
   "metadata": {
    "execution": {
     "iopub.status.busy": "2022-04-10T08:11:52.965717Z",
     "iopub.execute_input": "2022-04-10T08:11:52.966293Z",
     "iopub.status.idle": "2022-04-10T08:11:53.053218Z",
     "shell.execute_reply.started": "2022-04-10T08:11:52.966201Z",
     "shell.execute_reply": "2022-04-10T08:11:53.052101Z"
    },
    "trusted": true
   },
   "execution_count": null,
   "outputs": []
  },
  {
   "cell_type": "code",
   "source": [
    "seed = 1236\n",
    "\n",
    "f = open(\"results.txt\", \"a\")\n",
    "\n",
    "random.seed(seed)\n",
    "np.random.seed(seed)\n",
    "torch.manual_seed(seed)\n",
    "torch.cuda.manual_seed(seed)\n",
    "torch.backends.cudnn.deterministic = True"
   ],
   "metadata": {
    "execution": {
     "iopub.status.busy": "2022-04-09T18:27:32.414688Z",
     "iopub.execute_input": "2022-04-09T18:27:32.414952Z",
     "iopub.status.idle": "2022-04-09T18:27:32.421246Z",
     "shell.execute_reply.started": "2022-04-09T18:27:32.414923Z",
     "shell.execute_reply": "2022-04-09T18:27:32.420313Z"
    },
    "trusted": true
   },
   "execution_count": null,
   "outputs": []
  },
  {
   "cell_type": "code",
   "source": [
    "train = pd.read_csv('../input/rawdata/raw/train.csv')\n",
    "cv = pd.read_csv('../input/rawdata/raw/cv.csv')\n",
    "test = pd.read_csv('../input/rawdata/raw/test.csv')\n",
    "\n",
    "train['comment'] = train['comment'].astype(str)\n",
    "cv['comment'] = cv['comment'].astype(str)\n",
    "test['comment'] = test['comment'].astype(str)\n",
    "\n",
    "train = train.append(cv)\n",
    "train_data = train[['comment', 'label']].sample(n = 50000)\n",
    "test_data = test[['comment', 'label']].sample(n = 5000)\n",
    "test_data['comment'] = test_data['comment'].astype(str)\n"
   ],
   "metadata": {
    "execution": {
     "iopub.status.busy": "2022-04-09T18:30:03.75619Z",
     "iopub.execute_input": "2022-04-09T18:30:03.757328Z",
     "iopub.status.idle": "2022-04-09T18:30:03.763419Z",
     "shell.execute_reply.started": "2022-04-09T18:30:03.757278Z",
     "shell.execute_reply": "2022-04-09T18:30:03.76264Z"
    },
    "trusted": true
   },
   "execution_count": null,
   "outputs": []
  },
  {
   "cell_type": "code",
   "source": [
    "custom_args = {'fp16': False, # not using mixed precision\n",
    "               'train_batch_size': 1, # default is 8\n",
    "               'gradient_accumulation_steps': 30,\n",
    "               'do_lower_case': True,\n",
    "               'max_seq_length':100,\n",
    "               'learning_rate': 1e-05, # using lower learning rate\n",
    "               'overwrite_output_dir': True, # important for CV\n",
    "               'num_train_epochs': 2} # default is 1\n",
    "\n",
    "# #%% md\n",
    "\n",
    "# # 5-Fold CV\n",
    "\n",
    "# #%%\n",
    "\n",
    "# # n=5\n",
    "# # kf = KFold(n_splits=n, random_state=seed, shuffle=True)\n",
    "# # results = []\n",
    "# #\n",
    "# # for train_index, val_index in kf.split(train_data):\n",
    "# #     train_df = train_data.iloc[train_index]\n",
    "# #     val_df = train_data.iloc[val_index]\n",
    "# #\n",
    "# #     model = ClassificationModel('bert', 'bert-base-uncased', args=custom_args)\n",
    "# #     model.train_model(train_df)\n",
    "# #     result, model_outputs, wrong_predictions = model.eval_model(val_df, acc=sklearn.metrics.accuracy_score)\n",
    "# #     print(result['acc'])\n",
    "# #     results.append(result['acc'])\n",
    "\n",
    "# #%%\n",
    "\n",
    "# # for i, result in enumerate(results, 1):\n",
    "# #     print(f\"Fold-{i}: {result}\")\n",
    "# #\n",
    "# # print(f\"{n}-fold CV accuracy result: Mean: {np.mean(results)} Standard deviation:{np.std(results)}\")\n",
    "\n",
    "# #%% md\n",
    "\n",
    "# # Full Training"
   ],
   "metadata": {},
   "execution_count": null,
   "outputs": []
  },
  {
   "cell_type": "code",
   "execution_count": null,
   "outputs": [],
   "source": [
    "model = ClassificationModel('bert', 'bert-base-uncased', args=custom_args)\n",
    "model.train_model(train_data)\n",
    "\n",
    "predictions, _ = model.predict(test_data['comment'].tolist())\n",
    "f.write('bert-base-uncased')\n",
    "f.write(str(accuracy_score(test_data['label'], predictions)))\n",
    "f.write(str(f1_score(test_data['label'], predictions)))"
   ],
   "metadata": {
    "collapsed": false,
    "pycharm": {
     "name": "#%%\n"
    }
   }
  },
  {
   "cell_type": "code",
   "execution_count": null,
   "outputs": [],
   "source": [
    "roberta = ClassificationModel(\"roberta\", \"roberta-base\", args=custom_args)\n",
    "roberta.train_model(train_data)\n",
    "\n",
    "\n",
    "predictions,_ = roberta.predict( test_data['comment'].tolist())\n",
    "f.write('Roberta')\n",
    "f.write(str(accuracy_score(test_data['label'], predictions)))\n",
    "f.write(str(f1_score(test_data['label'], predictions)))"
   ],
   "metadata": {
    "collapsed": false,
    "pycharm": {
     "name": "#%%\n"
    }
   }
  }
 ]
}